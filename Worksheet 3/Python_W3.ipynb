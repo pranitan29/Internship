{
 "cells": [
  {
   "cell_type": "code",
   "execution_count": null,
   "id": "815c8689",
   "metadata": {},
   "outputs": [],
   "source": [
    "1. Which of the following will raise a value error in python? \n",
    "int(3.2) "
   ]
  },
  {
   "cell_type": "code",
   "execution_count": null,
   "id": "93b2c44e",
   "metadata": {},
   "outputs": [],
   "source": [
    "2. What will be the output of round(3.567)? \n",
    "C) 4"
   ]
  },
  {
   "cell_type": "code",
   "execution_count": null,
   "id": "54804f24",
   "metadata": {},
   "outputs": [],
   "source": [
    "3. How is the function pow(a,b,c) evaluated in python? \n",
    "B) (a**b)%c "
   ]
  },
  {
   "cell_type": "code",
   "execution_count": null,
   "id": "c561a28d",
   "metadata": {},
   "outputs": [],
   "source": [
    "4. What will be the output of print(type(type(int))) in python 3? \n",
    "A) <class ‘type’> "
   ]
  },
  {
   "cell_type": "code",
   "execution_count": null,
   "id": "5dbafc78",
   "metadata": {},
   "outputs": [],
   "source": [
    "5. What will be the output of ord(chr(65))? \n",
    "C) 65 "
   ]
  },
  {
   "cell_type": "code",
   "execution_count": null,
   "id": "ea958aa2",
   "metadata": {},
   "outputs": [],
   "source": [
    "6. What is called when a function is defined inside a class? \n",
    "D) Method"
   ]
  },
  {
   "cell_type": "code",
   "execution_count": null,
   "id": "733b8230",
   "metadata": {},
   "outputs": [],
   "source": [
    "7. What will be the output of all([1, 0, 5 ,7])? \n",
    "B) False "
   ]
  },
  {
   "cell_type": "code",
   "execution_count": null,
   "id": "0a066501",
   "metadata": {},
   "outputs": [],
   "source": [
    "8. Is the output of the function abs() the same as that of the function math.fabs()? \n",
    "B) Sometimes "
   ]
  },
  {
   "cell_type": "code",
   "execution_count": null,
   "id": "2ae577b5",
   "metadata": {},
   "outputs": [],
   "source": [
    "9. Select all correct float numbers in python? \n",
    "A) -68.7e100 B) 42e3 \n",
    "C) 4.2038 D) 3.0"
   ]
  },
  {
   "cell_type": "code",
   "execution_count": null,
   "id": "729645ef",
   "metadata": {},
   "outputs": [],
   "source": [
    "10. Which of the following is(are) correct statement(s) in python? \n",
    "A) You can pass positional arguments in any order. \n",
    "B) You can pass keyword arguments in any order. \n",
    "C) You can call a function with positional and keyword arguments. "
   ]
  },
  {
   "cell_type": "markdown",
   "id": "d7bf253a",
   "metadata": {},
   "source": [
    "11. Write a python function print pyramid of stars. Level of the pyramid should be taken as an input from the \n",
    "user. E.g. \n",
    "Input = 5 "
   ]
  },
  {
   "cell_type": "code",
   "execution_count": 3,
   "id": "8a8b5998",
   "metadata": {},
   "outputs": [],
   "source": [
    "def print_pyramid(level):\n",
    "    for i in range(1, level+1):\n",
    "        print(\" \"*(level-i) + \"* \"*(i))"
   ]
  },
  {
   "cell_type": "code",
   "execution_count": 4,
   "id": "dd2bb528",
   "metadata": {},
   "outputs": [
    {
     "name": "stdout",
     "output_type": "stream",
     "text": [
      "    * \n",
      "   * * \n",
      "  * * * \n",
      " * * * * \n",
      "* * * * * \n"
     ]
    }
   ],
   "source": [
    " print_pyramid(5)"
   ]
  },
  {
   "cell_type": "code",
   "execution_count": null,
   "id": "77e3d7f7",
   "metadata": {},
   "outputs": [],
   "source": [
    "12. Write a python function print Hourglass pattern. \n",
    "E.g. \n",
    "Input = 5 "
   ]
  },
  {
   "cell_type": "code",
   "execution_count": 5,
   "id": "d5a68c26",
   "metadata": {},
   "outputs": [],
   "source": [
    "def print_hourglass(size):\n",
    "    for i in range(size, 0, -1):\n",
    "        print(\" \"*(size-i) + \"* \"*(i))\n",
    "    for i in range(2, size+1):\n",
    "        print(\" \"*(size-i) + \"* \"*(i))\n"
   ]
  },
  {
   "cell_type": "code",
   "execution_count": 6,
   "id": "a3d32168",
   "metadata": {},
   "outputs": [
    {
     "name": "stdout",
     "output_type": "stream",
     "text": [
      "* * * * * \n",
      " * * * * \n",
      "  * * * \n",
      "   * * \n",
      "    * \n",
      "   * * \n",
      "  * * * \n",
      " * * * * \n",
      "* * * * * \n"
     ]
    }
   ],
   "source": [
    "print_hourglass(5)"
   ]
  },
  {
   "cell_type": "code",
   "execution_count": null,
   "id": "7b284f34",
   "metadata": {},
   "outputs": [],
   "source": [
    "13. Write a python function to print Pascal’s Triangle. The number of levels in the triangle must be taken as input \n",
    "by the user. E.g. \n",
    "Input = 5"
   ]
  },
  {
   "cell_type": "code",
   "execution_count": 7,
   "id": "d0c27b9f",
   "metadata": {},
   "outputs": [],
   "source": [
    "def print_pascal_triangle(levels):\n",
    "    triangle = [[1]]\n",
    "    for i in range(1, levels):\n",
    "        row = [1]\n",
    "        for j in range(1, i):\n",
    "            row.append(triangle[i-1][j-1] + triangle[i-1][j])\n",
    "        row.append(1)\n",
    "        triangle.append(row)\n",
    "\n",
    "    max_val = triangle[-1][-1]\n",
    "    digits = len(str(max_val))\n",
    "\n",
    "    for row in triangle:\n",
    "        row_str = \"\"\n",
    "        for val in row:\n",
    "            val_str = str(val).center(digits, \" \")\n",
    "            row_str += val_str + \" \"\n",
    "        print(row_str.center(levels*digits, \" \"))"
   ]
  },
  {
   "cell_type": "code",
   "execution_count": 8,
   "id": "a4f65306",
   "metadata": {},
   "outputs": [
    {
     "name": "stdout",
     "output_type": "stream",
     "text": [
      "  1  \n",
      " 1 1 \n",
      "1 2 1 \n",
      "1 3 3 1 \n",
      "1 4 6 4 1 \n"
     ]
    }
   ],
   "source": [
    "print_pascal_triangle(5)"
   ]
  },
  {
   "cell_type": "code",
   "execution_count": null,
   "id": "8832f74a",
   "metadata": {},
   "outputs": [],
   "source": [
    "14. Write a python function to print Diamond Shaped Pattern shown below. Function must take integer input \n",
    "which represents the number of stars in the middle most line. E.g.: \n",
    "Input = 5"
   ]
  },
  {
   "cell_type": "code",
   "execution_count": 9,
   "id": "f0582b13",
   "metadata": {},
   "outputs": [],
   "source": [
    "def print_diamond(num_stars):\n",
    "    # Upper half of diamond\n",
    "    for i in range(num_stars):\n",
    "        # Spaces before stars\n",
    "        print(\" \"*(num_stars-i-1), end=\"\")\n",
    "        # Stars\n",
    "        print(\"*\"*(2*i+1))\n",
    "\n",
    "    # Lower half of diamond\n",
    "    for i in range(num_stars-2, -1, -1):\n",
    "        # Spaces before stars\n",
    "        print(\" \"*(num_stars-i-1), end=\"\")\n",
    "        # Stars\n",
    "        print(\"*\"*(2*i+1))"
   ]
  },
  {
   "cell_type": "code",
   "execution_count": 10,
   "id": "0900826f",
   "metadata": {},
   "outputs": [
    {
     "name": "stdout",
     "output_type": "stream",
     "text": [
      "    *\n",
      "   ***\n",
      "  *****\n",
      " *******\n",
      "*********\n",
      " *******\n",
      "  *****\n",
      "   ***\n",
      "    *\n"
     ]
    }
   ],
   "source": [
    "print_diamond(5)"
   ]
  },
  {
   "cell_type": "code",
   "execution_count": null,
   "id": "0cf11978",
   "metadata": {},
   "outputs": [],
   "source": [
    "15. Write a python function to print Diamond Shaped Character Pattern shown below. Function must take integer \n",
    "input within range 1 to 26, which represents the rank of the alphabet. E.g.: \n",
    "Input = 5"
   ]
  },
  {
   "cell_type": "code",
   "execution_count": 11,
   "id": "502df666",
   "metadata": {},
   "outputs": [],
   "source": [
    "def print_diamond_char(rank):\n",
    "    # Convert rank to uppercase letter\n",
    "    letter = chr(rank + 64)\n",
    "\n",
    "    # Upper half of diamond\n",
    "    for i in range(rank):\n",
    "        # Spaces before letters\n",
    "        print(\" \"*(rank-i-1), end=\"\")\n",
    "        # Letters\n",
    "        print(letter*(2*i+1))\n",
    "\n",
    "    # Lower half of diamond\n",
    "    for i in range(rank-2, -1, -1):\n",
    "        # Spaces before letters\n",
    "        print(\" \"*(rank-i-1), end=\"\")\n",
    "        # Letters\n",
    "        print(letter*(2*i+1))"
   ]
  },
  {
   "cell_type": "code",
   "execution_count": 12,
   "id": "f9395301",
   "metadata": {},
   "outputs": [
    {
     "name": "stdout",
     "output_type": "stream",
     "text": [
      "    E\n",
      "   EEE\n",
      "  EEEEE\n",
      " EEEEEEE\n",
      "EEEEEEEEE\n",
      " EEEEEEE\n",
      "  EEEEE\n",
      "   EEE\n",
      "    E\n"
     ]
    }
   ],
   "source": [
    "print_diamond_char(5)"
   ]
  },
  {
   "cell_type": "code",
   "execution_count": null,
   "id": "99fc9185",
   "metadata": {},
   "outputs": [],
   "source": []
  }
 ],
 "metadata": {
  "kernelspec": {
   "display_name": "Python 3 (ipykernel)",
   "language": "python",
   "name": "python3"
  },
  "language_info": {
   "codemirror_mode": {
    "name": "ipython",
    "version": 3
   },
   "file_extension": ".py",
   "mimetype": "text/x-python",
   "name": "python",
   "nbconvert_exporter": "python",
   "pygments_lexer": "ipython3",
   "version": "3.9.12"
  }
 },
 "nbformat": 4,
 "nbformat_minor": 5
}
