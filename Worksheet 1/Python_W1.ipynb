{
 "cells": [
  {
   "cell_type": "markdown",
   "id": "f56c764d",
   "metadata": {},
   "source": [
    "# PYTHON – WORKSHEET 1"
   ]
  },
  {
   "cell_type": "code",
   "execution_count": null,
   "id": "8ccc2c6b",
   "metadata": {},
   "outputs": [],
   "source": [
    "1.) Which of the following operators is used to calculate remainder in a division?\n",
    "C) %"
   ]
  },
  {
   "cell_type": "code",
   "execution_count": null,
   "id": "56243f7d",
   "metadata": {},
   "outputs": [],
   "source": [
    "2. In python 2//3 is equal to?\n",
    "B) 0"
   ]
  },
  {
   "cell_type": "code",
   "execution_count": null,
   "id": "5385d925",
   "metadata": {},
   "outputs": [],
   "source": [
    "3.In python, 6<<2 is equal to?\n",
    "C) 24"
   ]
  },
  {
   "cell_type": "code",
   "execution_count": null,
   "id": "ef24483c",
   "metadata": {},
   "outputs": [],
   "source": [
    "4. In python, 6&2 will give which of the following as output?\n",
    "A) 2"
   ]
  },
  {
   "cell_type": "code",
   "execution_count": null,
   "id": "6de688f1",
   "metadata": {},
   "outputs": [],
   "source": [
    "5. In python, 6|2 will give which of the following as output?\n",
    "D) 6"
   ]
  },
  {
   "cell_type": "code",
   "execution_count": null,
   "id": "99284e21",
   "metadata": {},
   "outputs": [],
   "source": [
    "6. What does the finally keyword denotes in python?\n",
    "C) the finally block will be executed no matter if the try block raises an error or not."
   ]
  },
  {
   "cell_type": "code",
   "execution_count": null,
   "id": "9ff546ce",
   "metadata": {},
   "outputs": [],
   "source": [
    "7. What does raise keyword is used for in python?\n",
    "A) It is used to raise an exception."
   ]
  },
  {
   "cell_type": "code",
   "execution_count": null,
   "id": "8c84fed6",
   "metadata": {},
   "outputs": [],
   "source": [
    "8. Which of the following is a common use case of yield keyword in python?\n",
    "C) in defining a generator"
   ]
  },
  {
   "cell_type": "markdown",
   "id": "ad28aa7a",
   "metadata": {},
   "source": [
    "Q9 and Q10 have multiple correct answers. Choose all the correct options to answer your question."
   ]
  },
  {
   "cell_type": "code",
   "execution_count": null,
   "id": "0182550d",
   "metadata": {},
   "outputs": [],
   "source": [
    "9. Which of the following are the valid variable names?\n",
    "A) _abc\n",
    "C) abc2"
   ]
  },
  {
   "cell_type": "code",
   "execution_count": null,
   "id": "9687a2df",
   "metadata": {},
   "outputs": [],
   "source": [
    "10. Which of the following are the keywords in python?\n",
    "A) yield\n",
    "B) raise"
   ]
  },
  {
   "cell_type": "markdown",
   "id": "0cdbb541",
   "metadata": {},
   "source": [
    "11. Write a python program to find the factorial of a number."
   ]
  },
  {
   "cell_type": "code",
   "execution_count": 1,
   "id": "4afdfa09",
   "metadata": {},
   "outputs": [
    {
     "name": "stdout",
     "output_type": "stream",
     "text": [
      "Enter a number: 2\n",
      "The factorial of the number is 2\n"
     ]
    }
   ],
   "source": [
    "a = int(input(\"Enter a number: \")) \n",
    "f = 1 \n",
    "for i in range(1,a+1): \n",
    "    f = f * i \n",
    "print(f'The factorial of the number is {f}') \n"
   ]
  },
  {
   "cell_type": "markdown",
   "id": "463c51fd",
   "metadata": {},
   "source": [
    "12. Write a python program to find whether a number is prime or composite."
   ]
  },
  {
   "cell_type": "code",
   "execution_count": 2,
   "id": "a5fb8078",
   "metadata": {},
   "outputs": [
    {
     "name": "stdout",
     "output_type": "stream",
     "text": [
      "Enter any number : 4\n",
      "4 is NOT a prime number\n"
     ]
    }
   ],
   "source": [
    "num = int(input(\"Enter any number : \"))\n",
    "if num > 1:\n",
    "    for i in range(2, num):\n",
    "        if (num % i) == 0:\n",
    "            print(num, \"is NOT a prime number\")\n",
    "            break\n",
    "    else:\n",
    "        print(num, \"is a PRIME number\")\n",
    "elif num == 0 or 1:\n",
    "    print(num, \"is a neither prime NOR composite number\")\n",
    "else:\n",
    "    print(num, \"is NOT a prime number it is a COMPOSITE number\")"
   ]
  },
  {
   "cell_type": "markdown",
   "id": "7f5f627a",
   "metadata": {},
   "source": [
    "13. Write a python program to check whether a given string is palindrome or not."
   ]
  },
  {
   "cell_type": "code",
   "execution_count": 3,
   "id": "108a2208",
   "metadata": {},
   "outputs": [
    {
     "name": "stdout",
     "output_type": "stream",
     "text": [
      "Yes\n"
     ]
    }
   ],
   "source": [
    "def isPalindrome(s):\n",
    "    return s == s[::-1]\n",
    " \n",
    " # Driver code\n",
    "s = \"ABA\"\n",
    "ans = isPalindrome(s)\n",
    " \n",
    "if ans:\n",
    "    print(\"Yes\")\n",
    "else:\n",
    "    print(\"No\")"
   ]
  },
  {
   "cell_type": "code",
   "execution_count": 4,
   "id": "d3d3b35c",
   "metadata": {},
   "outputs": [
    {
     "name": "stdout",
     "output_type": "stream",
     "text": [
      "Yes\n"
     ]
    }
   ],
   "source": [
    "def isPalindrome(s):\n",
    "    return s == s[::-1]\n",
    " \n",
    " #Driver code\n",
    "s = \"malayalam\"\n",
    "ans = isPalindrome(s)\n",
    " \n",
    "if ans:\n",
    "    print(\"Yes\")\n",
    "else:\n",
    "    print(\"No\")"
   ]
  },
  {
   "cell_type": "markdown",
   "id": "d54ea97c",
   "metadata": {},
   "source": [
    "14. Write a Python program to get the third side of right-angled triangle from two given sides."
   ]
  },
  {
   "cell_type": "code",
   "execution_count": 5,
   "id": "04fb9d52",
   "metadata": {},
   "outputs": [
    {
     "name": "stdout",
     "output_type": "stream",
     "text": [
      "Give side a: 2\n",
      "Give side b: 2\n",
      "The length of the hypotenuse c is 2.8284271247461903\n"
     ]
    }
   ],
   "source": [
    "import math\n",
    "a = float(input(\"Give side a: \"))\n",
    "b = float(input(\"Give side b: \"))\n",
    "c = math.sqrt(a ** 2 + b ** 2)\n",
    "print(f\"The length of the hypotenuse c is {c}\")"
   ]
  },
  {
   "cell_type": "markdown",
   "id": "b6f7f98d",
   "metadata": {},
   "source": [
    "15. Write a python program to print the frequency of each of the characters present in a given string."
   ]
  },
  {
   "cell_type": "code",
   "execution_count": 6,
   "id": "a7a1c761",
   "metadata": {},
   "outputs": [
    {
     "name": "stdout",
     "output_type": "stream",
     "text": [
      "D: 2, A: 3, T: 2, A: 3,  : 1, T: 2, R: 1, A: 3, I: 1, N: 1, E: 1, D: 2, "
     ]
    }
   ],
   "source": [
    "string = \"DATA TRAINED\"\n",
    "\n",
    "for i in string:\n",
    "    frequency = string.count(i)\n",
    "    print(str(i) + \": \" + str(frequency), end=\", \")"
   ]
  },
  {
   "cell_type": "code",
   "execution_count": null,
   "id": "615241f2",
   "metadata": {},
   "outputs": [],
   "source": []
  }
 ],
 "metadata": {
  "kernelspec": {
   "display_name": "Python 3 (ipykernel)",
   "language": "python",
   "name": "python3"
  },
  "language_info": {
   "codemirror_mode": {
    "name": "ipython",
    "version": 3
   },
   "file_extension": ".py",
   "mimetype": "text/x-python",
   "name": "python",
   "nbconvert_exporter": "python",
   "pygments_lexer": "ipython3",
   "version": "3.9.12"
  }
 },
 "nbformat": 4,
 "nbformat_minor": 5
}
