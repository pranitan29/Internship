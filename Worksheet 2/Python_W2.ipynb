{
 "cells": [
  {
   "cell_type": "markdown",
   "id": "63ba90ef",
   "metadata": {},
   "source": [
    "# WORKSHEET 2 PYTHON"
   ]
  },
  {
   "cell_type": "code",
   "execution_count": null,
   "id": "505bb87f",
   "metadata": {},
   "outputs": [],
   "source": [
    "1. Which of the following is not a core datatype in python? \n",
    "B) struct "
   ]
  },
  {
   "cell_type": "code",
   "execution_count": null,
   "id": "63bdc0d1",
   "metadata": {},
   "outputs": [],
   "source": [
    "2. Which of the following is an invalid variable name in python? \n",
    "C) 1_no"
   ]
  },
  {
   "cell_type": "code",
   "execution_count": null,
   "id": "483a798f",
   "metadata": {},
   "outputs": [],
   "source": [
    "3. Which one of the following is a keyword in python? \n",
    "A) in "
   ]
  },
  {
   "cell_type": "code",
   "execution_count": null,
   "id": "539b36c2",
   "metadata": {},
   "outputs": [],
   "source": [
    "4.In which of the following manner are the operators of the same precedence executed in python? \n",
    "A) Left to Right "
   ]
  },
  {
   "cell_type": "code",
   "execution_count": null,
   "id": "20a0bad9",
   "metadata": {},
   "outputs": [],
   "source": [
    "5. Arrange the following in decreasing order of the precedence when they appear in an expression in python? \n",
    "i) Multiplication ii) Division iii) Exponential iv) Parentheses \n",
    "A) iii – iv – ii – i"
   ]
  },
  {
   "cell_type": "code",
   "execution_count": null,
   "id": "ee7a4a99",
   "metadata": {},
   "outputs": [],
   "source": [
    "6.(28//6)**3/3%3 = ? \n",
    "C) 0.3333…"
   ]
  },
  {
   "cell_type": "code",
   "execution_count": null,
   "id": "05544f89",
   "metadata": {},
   "outputs": [],
   "source": [
    "7. a = input(“Enter an integer”). What will be the data type of a? \n",
    "A) int"
   ]
  },
  {
   "cell_type": "code",
   "execution_count": null,
   "id": "bfc80713",
   "metadata": {},
   "outputs": [],
   "source": [
    "8. Which of the following statements are correct? \n",
    "A) Division and multiplication have same precedence in python \n",
    "D) In case of operators’ having the same precedence, the one on the left side is executed\n",
    " first."
   ]
  },
  {
   "cell_type": "code",
   "execution_count": null,
   "id": "e26e29ce",
   "metadata": {},
   "outputs": [],
   "source": [
    "9. Which of the following is(are) valid statement(s) in python? \n",
    "C) a,b,c = 1000, 2000, 3000 D) a_b_c = 1,000,000"
   ]
  },
  {
   "cell_type": "code",
   "execution_count": null,
   "id": "9635c18f",
   "metadata": {},
   "outputs": [],
   "source": [
    "10. Which of the following is not equal to x16 in \n",
    "python? \n",
    "C) x^16"
   ]
  },
  {
   "cell_type": "markdown",
   "id": "98f0b68f",
   "metadata": {},
   "source": [
    "11. Differentiate between a list, tuple, set and dictionary."
   ]
  },
  {
   "cell_type": "code",
   "execution_count": null,
   "id": "07a9c730",
   "metadata": {},
   "outputs": [],
   "source": [
    "In Python, the four main collection types are list, tuple, set, and dictionary.\n",
    "They have different properties and uses, and understanding their differences is important to use them effectively.\n",
    "Here are the main differences between them:\n",
    "\n",
    "List:\n",
    "\n",
    "Ordered collection of items enclosed in square brackets [].\n",
    "Mutable, i.e., you can change, add, and remove elements after creating it.\n",
    "Can contain duplicate elements.\n",
    "Example: my_list = [1, 2, \"three\", [4, 5]]\n",
    "Tuple:\n",
    "\n",
    "Ordered collection of items enclosed in parentheses ().\n",
    "Immutable, i.e., you cannot change, add, or remove elements after creating it.\n",
    "Can contain duplicate elements.\n",
    "Example: my_tuple = (1, 2, \"three\", [4, 5])\n",
    "Set:\n",
    "\n",
    "Unordered collection of unique elements enclosed in curly braces {} or created with the set() function.\n",
    "Mutable, i.e., you can add or remove elements after creating it.\n",
    "Cannot contain duplicate elements.\n",
    "Example: my_set = {1, 2, \"three\", (4, 5)} or my_set = set([1, 2, \"three\", (4, 5)])\n",
    "Dictionary:\n",
    "\n",
    "Unordered collection of key-value pairs enclosed in curly braces {} or created with the dict() function.\n",
    "Mutable, i.e., you can add, remove, or update key-value pairs after creating it.\n",
    "Keys must be unique and immutable, while values can be of any type.\n",
    "Example: my_dict = {\"name\": \"John\", \"age\": 30, \"hobbies\": [\"reading\", \"music\"]}\n",
    "In summary, a list and a tuple are similar, except that a list is mutable and a tuple is immutable. \n",
    "A set is a collection of unique elements, while a dictionary is a collection of key-value pairs."
   ]
  },
  {
   "cell_type": "markdown",
   "id": "c3890798",
   "metadata": {},
   "source": [
    "12. Are strings mutable in python? Suppose you have a string “I+Love+Python”, write a small code to replace ‘+’ \n",
    "with space in python."
   ]
  },
  {
   "cell_type": "code",
   "execution_count": null,
   "id": "a75b7e89",
   "metadata": {},
   "outputs": [],
   "source": [
    "In Python, strings are immutable, which means that you cannot modify the original string directly.\n",
    "However, you can create a new string that has the desired modifications.\n",
    "\n",
    "To replace '+' with space in the string \"I+Love+Python\", you can use the replace() method of the string as follows:\n",
    "\n",
    "original_str = \"I+Love+Python\"\n",
    "new_str = original_str.replace(\"+\", \" \")\n",
    "print(new_str)  # Output: I Love Python\n",
    "\n",
    "In this code, replace() method replaces all occurrences of the + character with a space character ' '. \n",
    "The resulting string is then stored in the new_str variable, which is printed to the console."
   ]
  },
  {
   "cell_type": "markdown",
   "id": "9f2dba2c",
   "metadata": {},
   "source": [
    "13. What does the function ord() do in python? Explain with an example. Also, write down the function for \n",
    "getting the data type of a variable in python."
   ]
  },
  {
   "cell_type": "code",
   "execution_count": null,
   "id": "9189660b",
   "metadata": {},
   "outputs": [],
   "source": [
    "The ord() function in Python returns the Unicode code point of a given character.\n",
    "In other words, it returns an integer representing the Unicode character.\n",
    "\n",
    "Here is an example:\n",
    ">>> ord('a')\n",
    "97\n",
    "\n",
    "In this example, ord('a') returns 97, which is the Unicode code point for the lowercase letter 'a'.\n",
    "\n",
    "To get the data type of a variable in Python, you can use the type() function.\n",
    "It returns the data type of the variable passed as an argument.\n",
    "\n",
    "Here is an example:\n",
    ">>> a = 10\n",
    ">>> type(a)\n",
    "<class 'int'>\n",
    "In this example, type(a) returns <class 'int'>, which means that the variable a is an integer data type."
   ]
  },
  {
   "cell_type": "markdown",
   "id": "109b6880",
   "metadata": {},
   "source": [
    "14. Write a python program to solve a quadratic equation of the form ax^2+bx+c=0. Where a, b and c are to be \n",
    "taken by user input. Handle the erroneous input, such as ‘a’ should not be equal to 0."
   ]
  },
  {
   "cell_type": "markdown",
   "id": "ae07f486",
   "metadata": {},
   "source": [
    "Here's the Python code to solve a quadratic equation of the form ax^2+bx+c=0:"
   ]
  },
  {
   "cell_type": "code",
   "execution_count": 3,
   "id": "ed4cbcfc",
   "metadata": {},
   "outputs": [
    {
     "name": "stdout",
     "output_type": "stream",
     "text": [
      "Enter a: 2.5\n",
      "Enter b: 5.3\n",
      "Enter c: 8.1\n",
      "No real solutions exist.\n"
     ]
    }
   ],
   "source": [
    "import math\n",
    "\n",
    "# Get user input for coefficients\n",
    "a = float(input(\"Enter a: \"))\n",
    "b = float(input(\"Enter b: \"))\n",
    "c = float(input(\"Enter c: \"))\n",
    "\n",
    "# Check if a is not equal to zero\n",
    "if a == 0:\n",
    "    print(\"a cannot be zero.\")\n",
    "else:\n",
    "    # Calculate the discriminant\n",
    "    disc = b**2 - 4*a*c\n",
    "\n",
    "    # Check the value of the discriminant\n",
    "    if disc < 0:\n",
    "        print(\"No real solutions exist.\")\n",
    "    elif disc == 0:\n",
    "        # Calculate the one real solution\n",
    "        x = -b / (2*a)\n",
    "        print(\"The solution is:\", x)\n",
    "    else:\n",
    "        # Calculate the two real solutions\n",
    "        x1 = (-b + math.sqrt(disc)) / (2*a)\n",
    "        x2 = (-b - math.sqrt(disc)) / (2*a)\n",
    "        print(\"The solutions are:\", x1, \"and\", x2)"
   ]
  },
  {
   "cell_type": "markdown",
   "id": "6dc7e7ba",
   "metadata": {},
   "source": [
    "15. Write a python program to find the sum of first ‘n’ natural numbers without using any loop. Ask users to \n",
    "input the value of ‘n"
   ]
  },
  {
   "cell_type": "code",
   "execution_count": 4,
   "id": "4fd1c971",
   "metadata": {},
   "outputs": [
    {
     "name": "stdout",
     "output_type": "stream",
     "text": [
      "Enter the value of n: 5\n",
      "The sum of first 5 natural numbers is 15\n"
     ]
    }
   ],
   "source": [
    "# Get user input for n\n",
    "n = int(input(\"Enter the value of n: \"))\n",
    "\n",
    "# Calculate the sum using the formula\n",
    "sum = (n * (n + 1)) // 2\n",
    "\n",
    "# Print the sum\n",
    "print(\"The sum of first\", n, \"natural numbers is\", sum)"
   ]
  },
  {
   "cell_type": "code",
   "execution_count": null,
   "id": "cb362834",
   "metadata": {},
   "outputs": [],
   "source": []
  }
 ],
 "metadata": {
  "kernelspec": {
   "display_name": "Python 3 (ipykernel)",
   "language": "python",
   "name": "python3"
  },
  "language_info": {
   "codemirror_mode": {
    "name": "ipython",
    "version": 3
   },
   "file_extension": ".py",
   "mimetype": "text/x-python",
   "name": "python",
   "nbconvert_exporter": "python",
   "pygments_lexer": "ipython3",
   "version": "3.9.12"
  }
 },
 "nbformat": 4,
 "nbformat_minor": 5
}
